{
 "cells": [
  {
   "cell_type": "code",
   "execution_count": null,
   "metadata": {},
   "outputs": [],
   "source": []
  },
  {
   "cell_type": "code",
   "execution_count": 8,
   "metadata": {},
   "outputs": [],
   "source": [
    "def ID_trueacc (acc, f_eva):\n",
    "    tofina=[]\n",
    "    for x in [0,20,40,60,80,100]:\n",
    "        e1=0.5**(1.03**(acc-f_eva(x)))\n",
    "        tofina.append(e1)\n",
    "    return (sum(tofina)/len(tofina))\n",
    "    \n",
    "def ID_trueeva (eva,f_acc):\n",
    "    tofine=[]\n",
    "    for x in [0,20,40,60,80,100]:\n",
    "        e1=0.5**(1.03**(f_acc(x)-eva))\n",
    "        tofine.append(e1)\n",
    "    return (sum(tofine)/len(tofine))\n",
    "    \n",
    "def ID_truestel (ear, eye, f_ear, f_eye):\n",
    "    tofins=[]\n",
    "    for x in [0,20,40,60,80,100]:\n",
    "        chance_notheard=0.5**(1.05**(f_ear(x)-(ear+5)))\n",
    "        eye_miss = 0.8**(1.05**(f_eye(x)-(eye+5)))\n",
    "        alerted_found = (1-eye_miss) + 0.5\n",
    "        if alerted_found>1:\n",
    "            alerted_found=1\n",
    "        otherwise_found=(alerted_found-0.45)\n",
    "        if otherwise_found<0:\n",
    "            otherwise_found=0\n",
    "        fully_found=(1-chance_notheard)*alerted_found\n",
    "        a=fully_found\n",
    "        fully_found+=(chance_notheard  * otherwise_found)\n",
    "        alerted=(1-chance_notheard)*(1-alerted_found)\n",
    "        undetec=chance_notheard*(1-otherwise_found)\n",
    "        score=(1*fully_found)+(0.5*alerted)+(0*undetec)\n",
    "        tofins.append(score)\n",
    "    return 1-(sum(tofins)/len(tofins))\n",
    "\n",
    "def ID_trueper (ear, eye, f_ear, f_eye):\n",
    "    tofinp=[]\n",
    "    for x in [0,20,40,60,80,100]:\n",
    "        chance_notheard=0.5**(1.05**(ear-f_ear(x)))\n",
    "        chance_notseen = 0.8**(1.05**(eye-f_eye(x)))\n",
    "        chance_missed = chance_notheard *chance_notseen\n",
    "        tofinp.append(1-chance_missed)\n",
    "    return (sum(tofinp)/len(tofinp))\n",
    "\n",
    "def none(x):\n",
    "    return x"
   ]
  },
  {
   "cell_type": "markdown",
   "metadata": {},
   "source": [
    "## Sector A"
   ]
  },
  {
   "cell_type": "code",
   "execution_count": 17,
   "metadata": {},
   "outputs": [],
   "source": [
    "#damage per shot in hp\n",
    "dam=50\n",
    "#accuracy on average\n",
    "acc=90\n",
    "#time to aim/shoot (time between deciding to fire and doing so) in seconds\n",
    "rof=0.3\n",
    "#shots fired before load necessary\n",
    "ammo=2\n",
    "#time it takes to load after full shots have been fired\n",
    "loadt=2\n",
    "\n",
    "#seconds load time for buff\n",
    "A_buffload=7\n",
    "#seconds for which buff lasts\n",
    "A_bufflen=3\n",
    "    \n",
    "#effect to accuracy (adds, multiplies, etc.)\n",
    "def A_sab(x):\n",
    "    return x\n",
    "#effect detriment to enems evasion\n",
    "def A_eed(x):\n",
    "    return x\n",
    "#effect to own damage\n",
    "def A_sdb(x):\n",
    "    return x+5\n",
    "#effect detriment to enems toughness (example, 0.1 means they take 1.1 dam for every 1 dealt.)\n",
    "A_tuff_debuff=0\n",
    "#effect to rof\n",
    "def A_srb(x):\n",
    "    return x*0.5\n",
    "\n",
    "#additional damage done by separate attack and %chance of this attack succeeding (ex. grenade fire, modacc for normal chance)\n",
    "A_addidam=[0,A_sab(acc)]"
   ]
  },
  {
   "cell_type": "code",
   "execution_count": 19,
   "metadata": {},
   "outputs": [
    {
     "name": "stdout",
     "output_type": "stream",
     "text": [
      "damage done sector = 0.6563459366477846\n"
     ]
    }
   ],
   "source": [
    "A_acc=1-ID_trueacc(acc,none)\n",
    "preA_1=(A_acc)*(dam*ammo)/((rof*ammo)+loadt)\n",
    "preA_1/=50\n",
    "\n",
    "modacc = 1-ID_trueacc(A_sab(acc),A_eed)\n",
    "moddam=A_sdb(dam) * (1+A_tuff_debuff)\n",
    "modrof=A_srb(rof)\n",
    "addidam= A_addidam[0]*A_addidam[1]\n",
    "    \n",
    "preA_2=( (modacc)*(moddam*ammo)/((modrof*ammo)+loadt) ) + addidam/A_bufflen\n",
    "preA_2/=50\n",
    "\n",
    "A=((preA_1*A_buffload)+(preA_2*A_bufflen))/(A_buffload+A_bufflen)\n",
    "print('damage done sector = '+str(A))"
   ]
  },
  {
   "cell_type": "markdown",
   "metadata": {},
   "source": [
    "## Sector B"
   ]
  },
  {
   "cell_type": "code",
   "execution_count": 22,
   "metadata": {},
   "outputs": [],
   "source": [
    "#% chance of dodging each shot\n",
    "dodge=90\n",
    "#total hp\n",
    "hp=200\n",
    "\n",
    "#seconds load time for buff\n",
    "B_buffload=1\n",
    "#seconds for which buff lasts\n",
    "B_bufflen=0\n",
    "    \n",
    "#effect to evasion\n",
    "def B_seb(x):\n",
    "    return x\n",
    "#effect detriment to enems acc\n",
    "def B_ead(x):\n",
    "    return x\n",
    "#effect on own toughness (decrease from 100% of damage taken per point dealt)\n",
    "tufbuff=0\n",
    "#effect detriment on enems rof (note - cannot exceed 0.4)\n",
    "def B_erd(x):\n",
    "    return x\n",
    "#effect detriment on enems damage (note - cannot exceed 10)\n",
    "def B_edd(x):\n",
    "    return x\n",
    "#own self-heal ability (number of hp that can be restored)\n",
    "B_heal=0"
   ]
  },
  {
   "cell_type": "code",
   "execution_count": 24,
   "metadata": {},
   "outputs": [
    {
     "name": "stdout",
     "output_type": "stream",
     "text": [
      "damage taken sector = 0.4883999852807417\n"
     ]
    }
   ],
   "source": [
    "B_dam=1-ID_trueeva(dodge, none)\n",
    "pre_B=(hp-(400*B_dam))/hp\n",
    "\n",
    "modeva=ID_trueeva(B_seb(dodge), B_ead)\n",
    "\n",
    "post_B_dam=1-modeva\n",
    "B_enemdam=(B_edd(10)/B_erd(0.4))*16\n",
    "dam_taken_buff=(B_enemdam*post_B_dam)*(1-tufbuff)\n",
    "post_B=(B_heal+hp-dam_taken_buff)/hp\n",
    "B=((pre_B*B_buffload)+(post_B*B_bufflen))/(B_bufflen+B_buffload)\n",
    "    \n",
    "print('damage taken sector = '+str(B))"
   ]
  },
  {
   "cell_type": "markdown",
   "metadata": {},
   "source": [
    "## Sector C"
   ]
  },
  {
   "cell_type": "code",
   "execution_count": 30,
   "metadata": {},
   "outputs": [],
   "source": [
    "#score for quietness while sneaking (around 0 to 100)\n",
    "stel_sound=50\n",
    "#score for visual discretion whle sneaking (around 0 to 100)\n",
    "stel_visi=80\n",
    "\n",
    "#time in secs for which buff lasts\n",
    "C_bufflen=2\n",
    "#time in secs which buff requires to be ready\n",
    "C_buffload=2\n",
    "    \n",
    "#effect on own visual stealth (how easy to see)\n",
    "def C_svs(x):\n",
    "    return x+30\n",
    "#effect on own auditory stealth (how easy to hear)\n",
    "def C_sss(x):\n",
    "    return x\n",
    "#effect on enems visual perception\n",
    "def C_evp(x):\n",
    "    return x\n",
    "#effect on enems auditory perception\n",
    "def C_esp(x):\n",
    "    return x"
   ]
  },
  {
   "cell_type": "code",
   "execution_count": 31,
   "metadata": {},
   "outputs": [
    {
     "name": "stdout",
     "output_type": "stream",
     "text": [
      "stealth sector = 0.5703625694962597\n"
     ]
    }
   ],
   "source": [
    "C_default=ID_truestel(stel_sound, stel_visi, none, none)\n",
    "C_buff=ID_truestel(C_sss(stel_sound), C_svs(stel_visi), C_esp, C_evp)\n",
    "\n",
    "C=((C_buff*C_bufflen)+(C_default*C_buffload))/(C_bufflen+C_buffload)\n",
    "    \n",
    "print('stealth sector = '+str(C))"
   ]
  }
 ],
 "metadata": {
  "kernelspec": {
   "display_name": "Python 3",
   "language": "python",
   "name": "python3"
  },
  "language_info": {
   "codemirror_mode": {
    "name": "ipython",
    "version": 3
   },
   "file_extension": ".py",
   "mimetype": "text/x-python",
   "name": "python",
   "nbconvert_exporter": "python",
   "pygments_lexer": "ipython3",
   "version": "3.5.2"
  }
 },
 "nbformat": 4,
 "nbformat_minor": 2
}
