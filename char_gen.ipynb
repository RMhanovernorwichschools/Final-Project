{
 "cells": [
  {
   "cell_type": "code",
   "execution_count": 1,
   "metadata": {},
   "outputs": [],
   "source": [
    "from random import randint, choice\n",
    "import numpy as np\n",
    "import matplotlib.pyplot as plt\n",
    "from math import sqrt\n",
    "import colorsys as col\n",
    "\n",
    "def correctify(a):\n",
    "    if a>1:\n",
    "        return 1\n",
    "    elif a<0:\n",
    "        return 0\n",
    "    else:\n",
    "        return a"
   ]
  },
  {
   "cell_type": "markdown",
   "metadata": {},
   "source": [
    "### Functions for Final Product"
   ]
  },
  {
   "cell_type": "code",
   "execution_count": 2,
   "metadata": {},
   "outputs": [],
   "source": [
    "def choose_haircol(skincol):\n",
    "    if skincol=='none':\n",
    "        l_max=500\n",
    "    else:\n",
    "        l_max=int(skincol[1]*500)+20\n",
    "    l=randint(0,l_max)/500\n",
    "    s_max=correctify(abs(0.6-l)*10)\n",
    "    s=randint(0,int(500*s_max))/500\n",
    "    sat_boost=abs(0.4-l)*0.7*randint(0,3)/3\n",
    "    s+=sat_boost\n",
    "    h_min=1/18-abs(0.6-l)**2+sqrt(s)/(abs(0.8-l)*20)\n",
    "    if h_min>18/360:\n",
    "        h_min=18/360\n",
    "    h_max=0.14+abs(0.6-l)**2-sqrt(s)/(abs(0.4-l)*18)\n",
    "    if h_max<23/360:\n",
    "        h_max=23/360\n",
    "    h=randint(int(500*h_min),int(500*h_max))/500\n",
    "    color=(col.hls_to_rgb(h,l,correctify(s)))\n",
    "\n",
    "    seg=[]\n",
    "    sog=[]\n",
    "    for y in [0,1,2]:\n",
    "        a=color[y]+0.1+(randint(0,25)-15)/255\n",
    "        seg.append(correctify(a))\n",
    "    for y in [0,1,2]:\n",
    "        a=color[y]-0.1+(randint(0,30)-15)/255\n",
    "        sog.append(correctify(a))\n",
    "\n",
    "    light=[seg for x in range(6)]\n",
    "    dark=[sog for x in range(6)]\n",
    "    midsec=[color for x in range(6)]\n",
    "    block=light+midsec+midsec+midsec+midsec+dark\n",
    "\n",
    "    block=np.reshape(block,(6,6,3))\n",
    "    plt.imshow(block)\n",
    "    plt.show\n",
    "    return [h,l,s]\n",
    "\n",
    "def choose_age(n,skew):\n",
    "    age=n\n",
    "    if skew=='neg':\n",
    "        m=-0.1\n",
    "    else:\n",
    "        m=0.1\n",
    "    while randint(0,3)!=2:\n",
    "        age+=randint(0,20)*(age/35)*m\n",
    "    yrs=int(age)\n",
    "    mns=int(12*(age-yrs))\n",
    "    print(str(yrs)+' years and '+str(mns)+' months old')\n",
    "    return age\n",
    "\n",
    "def choose_biosex():\n",
    "    return choice(['m', 'f'])\n",
    "\n",
    "def choose_height(age,sex):\n",
    "    if sex=='f':\n",
    "        height_dic={0:19.5, 1:27, 2:34, 3:37.5, 4:40, 5:42.5, 6:45, 7:47.5, 8:50,\n",
    "                    9: 52, 10:54, 11:56.5, 12:59, 13:61, 14:63, 15:64, 16:64, 17:64.5} #heights by age, levels off at 64.5 in\n",
    "        default=64.5\n",
    "    else:\n",
    "        height_dic={0:19.5, 1:29.5, 2:34.5, 3:38, 4:40, 5:42.5, 6:45, 7:47.5, 8:50,\n",
    "                    9: 52.5, 10:55, 11:57, 12:59, 13:61.5, 14:64, 15:66, 16:68, 17:68.5, 18:69, 19:69.5} #levels off at 69.5 in\n",
    "        default=69.5\n",
    "    inp=int(round(age,0))\n",
    "    start=height_dic.get(inp,default)\n",
    "    if randint(0,1)==1:\n",
    "        m=-0.04\n",
    "    else:\n",
    "        m=0.04\n",
    "    while randint(0,15)>3:\n",
    "        start+=randint(0,40)*m\n",
    "    height=start\n",
    "    feet=int(height/12)\n",
    "    ins=round(height-12*feet,3)\n",
    "    print(str(feet)+' ft and '+str(ins)+' inches')\n",
    "    return height\n",
    "\n",
    "def choose_skincol(haircol):\n",
    "    if haircol=='none':\n",
    "        l_min=50\n",
    "    else:\n",
    "        l_min=int(400*haircol[1])+20\n",
    "    h=0.014+randint(0,26)/720\n",
    "    s=randint(25,62)/100\n",
    "    l=randint(l_min,490)/1000+randint(l_min,490)/1000\n",
    "    if abs(0.5-l)<0.2 and s>=0.5:\n",
    "        print(s)\n",
    "        s-=(0.018*(s)*(1/(0.04+abs(0.5-l))))\n",
    "        if s<0:\n",
    "            s=0\n",
    "    if l*(1-s)<0.8:\n",
    "        h+=0.02\n",
    "    if l>0.8:\n",
    "        print(s)\n",
    "        min=int(4*l-0.9)\n",
    "        s+=(randint(min,10)/10)*l*0.3\n",
    "    color=col.hls_to_rgb(h,l,s)\n",
    "\n",
    "    bookend=[color for x in range(6)]\n",
    "    block=bookend+bookend+bookend+bookend+bookend+bookend\n",
    "\n",
    "    block=np.reshape(block,(6,6,3))\n",
    "    plt.imshow(block)\n",
    "    plt.show\n",
    "    return ([h,l,s])\n",
    "\n",
    "def choose_weight(age,sex):\n",
    "    if sex=='f':\n",
    "        weight_dic={0:7.7, 1:16.13, 2:27, 3:31.6, 4:34, 5:39.5, 6:46, 7:52, 8:58, \n",
    "                    9:65, 10:72, 11:83.5, 12:95, 13:102, 14:109, 15:114, 16:119, 17:122, 18:125, 19:128, 20:130}\n",
    "        if age>20 and age<=40:\n",
    "            default=110+age\n",
    "        elif age>40 and age <=55:\n",
    "            default=150+(age-40)/3\n",
    "        elif age>55 and age<=60:\n",
    "            default=155\n",
    "        else:\n",
    "            default=150-0.7*age\n",
    "    else:\n",
    "        weight_dic={0:7.7, 1:17.5, 2:28, 3:32.5, 4:36, 5:41.1, 6:46, 7:51, 8:56,\n",
    "                    9:62, 10:68, 11:79, 12:90, 13:101, 14:112, 15:123, 16:134, 17:139, 18:144, 19:147.5, 20:151}\n",
    "        if age>20 and age<=30:\n",
    "            default=151+2.1*(age-20)\n",
    "        elif age>30 and age<=40:\n",
    "            default=172+0.8*(age-30)\n",
    "        elif age>40 and age <=50:\n",
    "            default=180+0.2*(age-40)\n",
    "        elif age>50 and age<=65:\n",
    "            default=182-0.2*(age-50)\n",
    "        else:\n",
    "            default=180-0.3*(age-65)\n",
    "    inp=int(round(age,0))\n",
    "    start=weight_dic.get(inp,default)\n",
    "    if randint(0,1)==1:\n",
    "        m=-0.04\n",
    "    else:\n",
    "        m=0.04\n",
    "    if age<12:\n",
    "        m*=age/10\n",
    "    while randint(0,15)<14:\n",
    "        start+=randint(0,40)*m\n",
    "    weight=start\n",
    "    lbs=int(weight)\n",
    "    ounces=round(16*(weight-lbs),2)\n",
    "    print(str(lbs)+' lbs and '+str(ounces)+' oz')\n",
    "    return weight"
   ]
  },
  {
   "cell_type": "markdown",
   "metadata": {},
   "source": [
    "#### \"Workspace\""
   ]
  },
  {
   "cell_type": "code",
   "execution_count": 3,
   "metadata": {},
   "outputs": [
    {
     "data": {
      "text/plain": [
       "<function matplotlib.pyplot.show(*args, **kw)>"
      ]
     },
     "execution_count": 3,
     "metadata": {},
     "output_type": "execute_result"
    },
    {
     "data": {
      "image/png": "[encoded data removed]",
      "text/plain": [
       "<matplotlib.figure.Figure at 0x7f617ee8a6d8>"
      ]
     },
     "metadata": {
      "needs_background": "light"
     },
     "output_type": "display_data"
    }
   ],
   "source": [
    "color=col.hls_to_rgb(randint(0,255)/255,randint(0,255)/255,randint(0,255)/255)\n",
    "seg=[]\n",
    "for y in [0,1,2]:\n",
    "    a=color[y]+(randint(0,54)-27)/255\n",
    "    seg.append(correctify(a))\n",
    "\n",
    "bookend=[seg for x in range(6)]\n",
    "midsec=[seg]+[color for x in range(4)]+[seg]\n",
    "block=bookend+midsec+midsec+midsec+midsec+bookend\n",
    "\n",
    "block=np.reshape(block,(6,6,3))\n",
    "plt.imshow(block)\n",
    "plt.show"
   ]
  },
  {
   "cell_type": "code",
   "execution_count": 26,
   "metadata": {},
   "outputs": [
    {
     "name": "stdout",
     "output_type": "stream",
     "text": [
      "19 years and 9 months old\n",
      "m\n",
      "5 ft and 9.5 inches\n",
      "181 lbs and 0.64 oz\n",
      "BMI = 26.349\n",
      "overweight\n"
     ]
    },
    {
     "data": {
      "image/png": "[encoded data removed]",
      "text/plain": [
       "<matplotlib.figure.Figure at 0x7f617cbeea58>"
      ]
     },
     "metadata": {
      "needs_background": "light"
     },
     "output_type": "display_data"
    }
   ],
   "source": [
    "age=choose_age(20,choice(['neg','pos']))\n",
    "sex=choose_biosex()\n",
    "print(sex)\n",
    "height=(choose_height(age,sex))\n",
    "weight=(choose_weight(age,sex))\n",
    "hair = choose_haircol('none')\n",
    "describe_body(height,weight)"
   ]
  },
  {
   "cell_type": "code",
   "execution_count": 5,
   "metadata": {},
   "outputs": [],
   "source": [
    "def describe_body(height, weight):\n",
    "    bmi=703*weight/height**2\n",
    "    print('BMI = '+str(round(bmi,3)))\n",
    "    if bmi<18.5:\n",
    "        print('underweight')\n",
    "    elif bmi<25:\n",
    "        print('normal')\n",
    "    elif bmi<30:\n",
    "        print('overweight')\n",
    "    else:\n",
    "        print('obese')"
   ]
  },
  {
   "cell_type": "code",
   "execution_count": 10,
   "metadata": {},
   "outputs": [
    {
     "data": {
      "image/png": "[encoded data removed]",
      "text/plain": [
       "<matplotlib.figure.Figure at 0x7f617cca8898>"
      ]
     },
     "metadata": {
      "needs_background": "light"
     },
     "output_type": "display_data"
    }
   ],
   "source": [
    "skin=choose_skincol(hair)"
   ]
  }
 ],
 "metadata": {
  "kernelspec": {
   "display_name": "Python 3",
   "language": "python",
   "name": "python3"
  },
  "language_info": {
   "codemirror_mode": {
    "name": "ipython",
    "version": 3
   },
   "file_extension": ".py",
   "mimetype": "text/x-python",
   "name": "python",
   "nbconvert_exporter": "python",
   "pygments_lexer": "ipython3",
   "version": "3.5.2"
  }
 },
 "nbformat": 4,
 "nbformat_minor": 2
}
