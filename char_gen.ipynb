{
 "cells": [
  {
   "cell_type": "code",
   "execution_count": 1,
   "metadata": {},
   "outputs": [],
   "source": [
    "from random import randint, choice\n",
    "import numpy as np\n",
    "import matplotlib.pyplot as plt\n",
    "from math import sqrt\n",
    "\n",
    "def correctify(a):\n",
    "    if a>1:\n",
    "        return 1\n",
    "    elif a<0:\n",
    "        return 0\n",
    "    else:\n",
    "        return a"
   ]
  },
  {
   "cell_type": "code",
   "execution_count": 2,
   "metadata": {},
   "outputs": [
    {
     "data": {
      "text/plain": [
       "<function matplotlib.pyplot.show(*args, **kw)>"
      ]
     },
     "execution_count": 2,
     "metadata": {},
     "output_type": "execute_result"
    },
    {
     "data": {
      "image/png": "[encoded data removed]",
      "text/plain": [
       "<matplotlib.figure.Figure at 0x7f42ba2bbda0>"
      ]
     },
     "metadata": {
      "needs_background": "light"
     },
     "output_type": "display_data"
    }
   ],
   "source": [
    "color=[randint(0,255)/255,randint(0,255)/255,randint(0,255)/255]\n",
    "seg=[]\n",
    "for y in [0,1,2]:\n",
    "    a=color[y]+(randint(0,54)-27)/255\n",
    "    seg.append(correctify(a))\n",
    "\n",
    "bookend=[seg for x in range(6)]\n",
    "midsec=[seg]+[color for x in range(4)]+[seg]\n",
    "block=bookend+midsec+midsec+midsec+midsec+bookend\n",
    "\n",
    "block=np.reshape(block,(6,6,3))\n",
    "plt.imshow(block)\n",
    "plt.show"
   ]
  },
  {
   "cell_type": "code",
   "execution_count": 155,
   "metadata": {},
   "outputs": [
    {
     "name": "stdout",
     "output_type": "stream",
     "text": [
      "r: 1\n",
      "g: 1\n",
      "b: 0.7098039215686276\n",
      "Pale Blond\n"
     ]
    },
    {
     "data": {
      "image/png": "[encoded data removed]",
      "text/plain": [
       "<matplotlib.figure.Figure at 0x7f42b7f67550>"
      ]
     },
     "metadata": {
      "needs_background": "light"
     },
     "output_type": "display_data"
    }
   ],
   "source": [
    "colorgoal=choice(['black', 'general', 'grey', 'blond', 'brown'])\n",
    "\n",
    "if colorgoal=='general':\n",
    "    base=randint(0,255)/255\n",
    "    r=base+(randint(0,50)/255)\n",
    "    g=base+(randint(0,5)/255)\n",
    "    b=base+(randint(0,25)/255)\n",
    "    if r>0.85 and r>b:\n",
    "        b+=(0.05*r)\n",
    "    if r>0.7 and r>g+0.1:\n",
    "        g+=0.1*r\n",
    "    color=[correctify(x) for x in [r,g,b]]\n",
    "elif colorgoal=='grey':\n",
    "    base=randint(0,255)/255\n",
    "    r=base+(-10/255+randint(0,20)/255)*(1-base)\n",
    "    g=base+(-10/255+randint(0,20)/255)*(1-base)\n",
    "    b=base+(-10/255+randint(0,20)/255)*(1-base)\n",
    "    color=[correctify(x) for x in [r,g,b]]\n",
    "elif colorgoal=='blond':\n",
    "    base=correctify(sqrt(sqrt(randint(0,260)/260))+0.1)\n",
    "    r=base+(randint(0,20)**2/5000)\n",
    "    g=base-(base/100)-(randint(0,30)/255)\n",
    "    b=r/2+(base*randint(0,20)/255)\n",
    "    if g>(r*base)*1.1:\n",
    "        g=r*sqrt(base)\n",
    "    color=[correctify(x) for x in [r,g,b]]\n",
    "elif colorgoal=='brown':\n",
    "    base=randint(0,255)/255\n",
    "    r=base+(randint(0,50)/255)\n",
    "    g=base+(randint(0,50)/255)-(50/255)*(1-base)\n",
    "    b=base+(randint(0,50)/255)-85/255\n",
    "    if g>0.95*r:\n",
    "        r=g*1.05\n",
    "    color=[correctify(x) for x in [r,g,b]]\n",
    "elif colorgoal=='black':\n",
    "    base=1-((randint(0,77)/255)+0.7)\n",
    "    r=base+(randint(0,40)/255)\n",
    "    g=base+(randint(0,30)/255)\n",
    "    b=base+(randint(0,40)/255)\n",
    "    if g>0.95*r:\n",
    "        r=g*1.05\n",
    "    color=[correctify(x) for x in [r,g,b]]\n",
    "\n",
    "seg=[]\n",
    "sog=[]\n",
    "for y in [0,1,2]:\n",
    "    a=color[y]+0.1+(randint(0,25)-15)/255\n",
    "    seg.append(correctify(a))\n",
    "for y in [0,1,2]:\n",
    "    a=color[y]-0.1+(randint(0,30)-15)/255\n",
    "    sog.append(correctify(a))\n",
    "\n",
    "light=[seg for x in range(6)]\n",
    "dark=[sog for x in range(6)]\n",
    "midsec=[color for x in range(6)]\n",
    "block=light+midsec+midsec+midsec+midsec+dark\n",
    "\n",
    "block=np.reshape(block,(6,6,3))\n",
    "plt.imshow(block)\n",
    "plt.show\n",
    "\n",
    "r=color[0]\n",
    "g=color[1]\n",
    "b=color[2]\n",
    "print('r: '+str(r))\n",
    "print('g: '+str(g))\n",
    "print('b: '+str(b))\n",
    "if (base<0.05 and max(color)!=r) or base<0.035:\n",
    "    ans=('Jet Black')\n",
    "elif base<0.15:\n",
    "    ans='Black'\n",
    "    if max(color)==b:\n",
    "        ans='Blue-'+ans\n",
    "    elif max(color)==r:\n",
    "        ans='Brown-'+ans\n",
    "elif abs((r-g)+(r-b))<0.08 or g+b>1.75*r:\n",
    "    if base>=0.85:\n",
    "        ans=('White')\n",
    "    elif max(color)==b and b>1.06*r:\n",
    "        ans=('Blue-Grey')\n",
    "    else:\n",
    "        ans=(\"Grey\")\n",
    "elif max(color)==r:\n",
    "    if base>0.6 and r>=2*b/3:\n",
    "        if r-g<11/255 and base<0.85:\n",
    "            ans=('Seaweed Blond')\n",
    "        elif r-g<20/255 and ((r>1.8*b) or (r>0.99 and r>=1.5*b)):\n",
    "            ans='Lemon Blond'\n",
    "        elif r-g>65/255:\n",
    "            ans=('Strawberry Blond')\n",
    "        elif r-g>35/255 and base<0.66:\n",
    "            ans=('Sandy Brown')\n",
    "        elif r-g>35/255 and base<0.85:\n",
    "            ans=('Dirty Blond')\n",
    "        elif base>=0.93:\n",
    "            ans=('Pale Blond')\n",
    "        elif g+b>=(1.35*a):\n",
    "            ans=('Ash Blond')\n",
    "        else:\n",
    "            ans='Sandy Blond'\n",
    "        if ans!='Pale Blond' and base>0.85:\n",
    "            ans=('Light ')+ans\n",
    "    elif r>=b*2/3 and g>b:\n",
    "        if r>1.5*g and r>1.3*b and base>0.35:\n",
    "            ans=('Rosy Brown')\n",
    "        elif g>=0.85*r:\n",
    "            ans='Seaweed Brown'\n",
    "        else:\n",
    "            ans=('Brown')\n",
    "        if base>0.5:\n",
    "            ans='Light '+ans\n",
    "        elif base<0.3:\n",
    "            ans='Dark '+ans\n",
    "    elif b>g:\n",
    "        ans=('Purple')\n",
    "print(ans)"
   ]
  },
  {
   "cell_type": "code",
   "execution_count": 582,
   "metadata": {},
   "outputs": [
    {
     "name": "stdout",
     "output_type": "stream",
     "text": [
      "17 years and 9 months old\n"
     ]
    },
    {
     "data": {
      "text/plain": [
       "17.799999999999997"
      ]
     },
     "execution_count": 582,
     "metadata": {},
     "output_type": "execute_result"
    }
   ],
   "source": [
    "def choose_age(n):\n",
    "    age=n\n",
    "    while randint(0,3)!=2:\n",
    "        age+=(randint(0,2)-1)*(n/35)\n",
    "        age+=randint(0,2)-1\n",
    "    yrs=int(age)\n",
    "    mns=int(12*(age-yrs))\n",
    "    print(str(yrs)+' years and '+str(mns)+' months old')\n",
    "    return age\n",
    "\n",
    "choose_age(21)"
   ]
  }
 ],
 "metadata": {
  "kernelspec": {
   "display_name": "Python 3",
   "language": "python",
   "name": "python3"
  },
  "language_info": {
   "codemirror_mode": {
    "name": "ipython",
    "version": 3
   },
   "file_extension": ".py",
   "mimetype": "text/x-python",
   "name": "python",
   "nbconvert_exporter": "python",
   "pygments_lexer": "ipython3",
   "version": "3.5.2"
  }
 },
 "nbformat": 4,
 "nbformat_minor": 2
}
